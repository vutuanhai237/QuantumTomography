{
 "cells": [
  {
   "cell_type": "code",
   "execution_count": 1,
   "metadata": {},
   "outputs": [
    {
     "name": "stderr",
     "output_type": "stream",
     "text": [
      "2025-03-01 18:33:42.283810: I tensorflow/core/util/port.cc:153] oneDNN custom operations are on. You may see slightly different numerical results due to floating-point round-off errors from different computation orders. To turn them off, set the environment variable `TF_ENABLE_ONEDNN_OPTS=0`.\n",
      "2025-03-01 18:33:42.284308: I external/local_xla/xla/tsl/cuda/cudart_stub.cc:32] Could not find cuda drivers on your machine, GPU will not be used.\n",
      "2025-03-01 18:33:42.286778: I external/local_xla/xla/tsl/cuda/cudart_stub.cc:32] Could not find cuda drivers on your machine, GPU will not be used.\n",
      "2025-03-01 18:33:42.294188: E external/local_xla/xla/stream_executor/cuda/cuda_fft.cc:477] Unable to register cuFFT factory: Attempting to register factory for plugin cuFFT when one has already been registered\n",
      "WARNING: All log messages before absl::InitializeLog() is called are written to STDERR\n",
      "E0000 00:00:1740821622.307047   19153 cuda_dnn.cc:8310] Unable to register cuDNN factory: Attempting to register factory for plugin cuDNN when one has already been registered\n",
      "E0000 00:00:1740821622.310848   19153 cuda_blas.cc:1418] Unable to register cuBLAS factory: Attempting to register factory for plugin cuBLAS when one has already been registered\n",
      "2025-03-01 18:33:42.324118: I tensorflow/core/platform/cpu_feature_guard.cc:210] This TensorFlow binary is optimized to use available CPU instructions in performance-critical operations.\n",
      "To enable the following instructions: AVX2 AVX512F AVX512_VNNI FMA, in other operations, rebuild TensorFlow with the appropriate compiler flags.\n"
     ]
    }
   ],
   "source": [
    "import base.epsilon_rho as epsilon_rho\n",
    "import numpy as np\n",
    "from base import metrics\n",
    "import tensorflow as tf\n",
    "%load_ext autoreload\n",
    "%autoreload 2"
   ]
  },
  {
   "cell_type": "code",
   "execution_count": 2,
   "metadata": {},
   "outputs": [],
   "source": [
    "from base import generator_gellmann\n",
    "from base import generator_haar\n",
    "\n",
    "def initExperiment(n):\n",
    "    d = 2**n\n",
    "    # Generate 6^n density matrices\n",
    "    rho_list = generator_haar.generate_n_qubits_rho_haar(n)\n",
    "\n",
    "    print(f\"Generated {len(rho_list)} of {rho_list[0].shape} rho.\")\n",
    "    # ----------------------------\n",
    "    single_qubits_projectors = generator_gellmann.generate_measurement_projector_gellmann(num_qubits = 1)\n",
    "    measurement_operators = generator_gellmann.generate_measurement_operators_gellmann(single_qubits_projectors, n)\n",
    "    print(f\"Generated {len(measurement_operators)} of {measurement_operators[0].shape} M.\")\n",
    "    # ----------------------------\n",
    "    # Generate epsilon\n",
    "    epsilon = generator_haar.random_unitary(d)\n",
    "    print(f\"Generated {epsilon.shape} epsilon.\")\n",
    "    # Generate K list\n",
    "    unitary = generator_haar.haar(d)\n",
    "    kraus_operators = generator_haar.generate_kraus_operators(unitary)\n",
    "    print(f\"Generated {len(kraus_operators)} of {kraus_operators[0].shape} kraus operators.\")\n",
    "    return rho_list, measurement_operators, epsilon, kraus_operators\n"
   ]
  },
  {
   "cell_type": "code",
   "execution_count": 3,
   "metadata": {},
   "outputs": [],
   "source": [
    "def calculate_rho2_lists(rho_list, epsilon, kraus_operators):\n",
    "    rho2 = []\n",
    "    rho2_kraus = []\n",
    "    for rho in rho_list:\n",
    "        rho2.append(epsilon_rho.calculate_from_unitary(rho, epsilon))\n",
    "        rho2_kraus.append(epsilon_rho.calculate_from_kraus_operators(rho, kraus_operators))\n",
    "    return rho2, rho2_kraus"
   ]
  },
  {
   "cell_type": "code",
   "execution_count": 4,
   "metadata": {},
   "outputs": [],
   "source": [
    "import numpy as np\n",
    "import tensorflow as tf\n",
    "def write_to_file(filename, data):\n",
    "    \"\"\"Write TensorFlow tensor data to a text file without truncation.\"\"\"\n",
    "    tensor_data = data.numpy() if isinstance(data, tf.Tensor) else data\n",
    "\n",
    "    # Open the file and write the tensor data\n",
    "    with open(filename, 'w') as f:\n",
    "        if isinstance(data, np.ndarray):\n",
    "            np.savetxt(f, data, fmt=\"%.6f\")\n",
    "        elif isinstance(data, list):\n",
    "            for item in data:\n",
    "                f.write(f\"{item}\\n\")\n",
    "        else:\n",
    "            f.write(str(data))"
   ]
  },
  {
   "cell_type": "code",
   "execution_count": 10,
   "metadata": {},
   "outputs": [
    {
     "name": "stdout",
     "output_type": "stream",
     "text": [
      "N=3\n",
      "Generated 216 of (8, 8) rho.\n",
      "Generated 216 of (8, 8) M.\n",
      "Generated (8, 8) epsilon.\n",
      "Generated 8 of (8, 8) kraus operators.\n",
      "tf.Tensor(0.863179446656344, shape=(), dtype=float64)\n"
     ]
    },
    {
     "ename": "KeyboardInterrupt",
     "evalue": "",
     "output_type": "error",
     "traceback": [
      "\u001b[0;31m---------------------------------------------------------------------------\u001b[0m",
      "\u001b[0;31mKeyboardInterrupt\u001b[0m                         Traceback (most recent call last)",
      "Cell \u001b[0;32mIn[10], line 21\u001b[0m\n\u001b[1;32m     18\u001b[0m \u001b[38;5;66;03m# ----------------------------\u001b[39;00m\n\u001b[1;32m     19\u001b[0m \u001b[38;5;66;03m# Fast QPT based on multi-shot measurement\u001b[39;00m\n\u001b[1;32m     20\u001b[0m start_time \u001b[38;5;241m=\u001b[39m time\u001b[38;5;241m.\u001b[39mtime()\n\u001b[0;32m---> 21\u001b[0m kraus_operators_res, cost_dict \u001b[38;5;241m=\u001b[39m \u001b[43mfast_QPT_recreate\u001b[49m\u001b[38;5;241;43m.\u001b[39;49m\u001b[43moptimize_adam_kraus\u001b[49m\u001b[43m(\u001b[49m\u001b[43mmeasurement_operators\u001b[49m\u001b[43m,\u001b[49m\u001b[43m \u001b[49m\u001b[43mrho_list\u001b[49m\u001b[43m,\u001b[49m\u001b[43m \u001b[49m\u001b[43mepsilon\u001b[49m\u001b[43m,\u001b[49m\u001b[43m \u001b[49m\u001b[43mkraus_operators\u001b[49m\u001b[43m,\u001b[49m\u001b[43m \u001b[49m\u001b[43mn\u001b[49m\u001b[43m,\u001b[49m\u001b[43m \u001b[49m\u001b[38;5;241;43m0.06\u001b[39;49m\u001b[43m,\u001b[49m\u001b[43m \u001b[49m\u001b[43mnum_loop\u001b[49m\u001b[38;5;241;43m=\u001b[39;49m\u001b[38;5;241;43m200\u001b[39;49m\u001b[43m)\u001b[49m\n\u001b[1;32m     22\u001b[0m end_time \u001b[38;5;241m=\u001b[39m time\u001b[38;5;241m.\u001b[39mtime()\n\u001b[1;32m     23\u001b[0m multi_shot_time \u001b[38;5;241m=\u001b[39m end_time \u001b[38;5;241m-\u001b[39m start_time\n",
      "File \u001b[0;32m~/QuantumTomography/base/fast_QPT_recreate.py:77\u001b[0m, in \u001b[0;36moptimize_adam_kraus\u001b[0;34m(M_list, rho_list, unitary, kraus_operators, num_qubits, alpha, beta1, beta2, epsilon, num_loop)\u001b[0m\n\u001b[1;32m     75\u001b[0m \u001b[38;5;66;03m# Try looping manually\u001b[39;00m\n\u001b[1;32m     76\u001b[0m \u001b[38;5;28;01mfor\u001b[39;00m i \u001b[38;5;129;01min\u001b[39;00m \u001b[38;5;28mrange\u001b[39m(num_loop):\n\u001b[0;32m---> 77\u001b[0m     kraus_operators_copy, m, v, cost \u001b[38;5;241m=\u001b[39m \u001b[43mcalculate_adam_kraus\u001b[49m\u001b[43m(\u001b[49m\u001b[43mM_list\u001b[49m\u001b[43m,\u001b[49m\u001b[43m \u001b[49m\u001b[43mrho_list\u001b[49m\u001b[43m,\u001b[49m\u001b[43m \u001b[49m\u001b[43munitary\u001b[49m\u001b[43m,\u001b[49m\u001b[43m \u001b[49m\u001b[43mkraus_operators_copy\u001b[49m\u001b[43m,\u001b[49m\u001b[43m \u001b[49m\u001b[43mm\u001b[49m\u001b[43m \u001b[49m\u001b[38;5;241;43m=\u001b[39;49m\u001b[43m \u001b[49m\u001b[43mm\u001b[49m\u001b[43m,\u001b[49m\u001b[43m \u001b[49m\u001b[43mv\u001b[49m\u001b[43m \u001b[49m\u001b[38;5;241;43m=\u001b[39;49m\u001b[43m \u001b[49m\u001b[43mv\u001b[49m\u001b[43m,\u001b[49m\u001b[43m \u001b[49m\u001b[43mt\u001b[49m\u001b[43m \u001b[49m\u001b[38;5;241;43m=\u001b[39;49m\u001b[43m \u001b[49m\u001b[43mi\u001b[49m\u001b[43m,\u001b[49m\u001b[43m \u001b[49m\u001b[43malpha\u001b[49m\u001b[38;5;241;43m=\u001b[39;49m\u001b[43malpha\u001b[49m\u001b[43m,\u001b[49m\u001b[43m \u001b[49m\u001b[43mbeta1\u001b[49m\u001b[38;5;241;43m=\u001b[39;49m\u001b[43mbeta1\u001b[49m\u001b[43m,\u001b[49m\u001b[43m \u001b[49m\u001b[43mbeta2\u001b[49m\u001b[38;5;241;43m=\u001b[39;49m\u001b[43mbeta2\u001b[49m\u001b[43m,\u001b[49m\u001b[43m \u001b[49m\u001b[43mepsilon\u001b[49m\u001b[38;5;241;43m=\u001b[39;49m\u001b[43mepsilon\u001b[49m\u001b[43m)\u001b[49m\n\u001b[1;32m     78\u001b[0m     \u001b[38;5;28mprint\u001b[39m(cost)\n\u001b[1;32m     81\u001b[0m     \u001b[38;5;66;03m# Store the cost for this iteration\u001b[39;00m\n",
      "File \u001b[0;32m~/QuantumTomography/base/fast_QPT_recreate.py:44\u001b[0m, in \u001b[0;36mcalculate_adam_kraus\u001b[0;34m(M_list, rho_list, unitary, kraus_operators, m, v, t, alpha, beta1, beta2, epsilon, mode)\u001b[0m\n\u001b[1;32m     42\u001b[0m \u001b[38;5;28;01mwith\u001b[39;00m tf\u001b[38;5;241m.\u001b[39mGradientTape() \u001b[38;5;28;01mas\u001b[39;00m tape:\n\u001b[1;32m     43\u001b[0m     data \u001b[38;5;241m=\u001b[39m compute_simulated_data(M_list, rho_list, unitary)\n\u001b[0;32m---> 44\u001b[0m     f \u001b[38;5;241m=\u001b[39m \u001b[43mdiff_measure_rho\u001b[49m\u001b[43m(\u001b[49m\u001b[43mdata\u001b[49m\u001b[43m,\u001b[49m\u001b[43m \u001b[49m\u001b[43mM_list\u001b[49m\u001b[43m,\u001b[49m\u001b[43m \u001b[49m\u001b[43mrho_list\u001b[49m\u001b[43m,\u001b[49m\u001b[43m \u001b[49m\u001b[43mtensorKraus\u001b[49m\u001b[43m)\u001b[49m\n\u001b[1;32m     46\u001b[0m \u001b[38;5;66;03m# Calculate the gradient\u001b[39;00m\n\u001b[1;32m     47\u001b[0m c \u001b[38;5;241m=\u001b[39m tape\u001b[38;5;241m.\u001b[39mgradient(f, tensorKraus)\n",
      "File \u001b[0;32m~/QuantumTomography/base/fast_QPT_recreate.py:24\u001b[0m, in \u001b[0;36mdiff_measure_rho\u001b[0;34m(d_ij, M_list, rho_list, kraus_operators)\u001b[0m\n\u001b[1;32m     21\u001b[0m loss \u001b[38;5;241m=\u001b[39m tf\u001b[38;5;241m.\u001b[39mconstant(\u001b[38;5;241m0.0\u001b[39m, dtype\u001b[38;5;241m=\u001b[39mtf\u001b[38;5;241m.\u001b[39mcomplex128)  \u001b[38;5;66;03m# Initialize loss\u001b[39;00m\n\u001b[1;32m     23\u001b[0m \u001b[38;5;28;01mfor\u001b[39;00m i, rho \u001b[38;5;129;01min\u001b[39;00m \u001b[38;5;28menumerate\u001b[39m(rho_list):\n\u001b[0;32m---> 24\u001b[0m     rho_transformed \u001b[38;5;241m=\u001b[39m \u001b[43mepsilon_rho\u001b[49m\u001b[38;5;241;43m.\u001b[39;49m\u001b[43mcalculate_from_kraus_operators\u001b[49m\u001b[43m(\u001b[49m\n\u001b[1;32m     25\u001b[0m \u001b[43m        \u001b[49m\u001b[43mrho\u001b[49m\u001b[38;5;241;43m=\u001b[39;49m\u001b[43mrho\u001b[49m\u001b[43m,\u001b[49m\u001b[43m \u001b[49m\u001b[43mkraus_operators\u001b[49m\u001b[38;5;241;43m=\u001b[39;49m\u001b[43mkraus_operators\u001b[49m\n\u001b[1;32m     26\u001b[0m \u001b[43m    \u001b[49m\u001b[43m)\u001b[49m  \u001b[38;5;66;03m# Apply channel\u001b[39;00m\n\u001b[1;32m     28\u001b[0m     \u001b[38;5;28;01mfor\u001b[39;00m j, M \u001b[38;5;129;01min\u001b[39;00m \u001b[38;5;28menumerate\u001b[39m(M_list): \n\u001b[1;32m     29\u001b[0m         predicted \u001b[38;5;241m=\u001b[39m tf\u001b[38;5;241m.\u001b[39mlinalg\u001b[38;5;241m.\u001b[39mtrace(tf\u001b[38;5;241m.\u001b[39mlinalg\u001b[38;5;241m.\u001b[39mmatmul(M, rho_transformed))  \u001b[38;5;66;03m# Tr( M_j * rho_i' )\u001b[39;00m\n",
      "File \u001b[0;32m~/QuantumTomography/base/epsilon_rho.py:65\u001b[0m, in \u001b[0;36mcalculate_from_kraus_operators\u001b[0;34m(rho, kraus_operators)\u001b[0m\n\u001b[1;32m     61\u001b[0m \u001b[38;5;28;01mdef\u001b[39;00m\u001b[38;5;250m \u001b[39m\u001b[38;5;21mcalculate_from_kraus_operators\u001b[39m(rho, kraus_operators):\n\u001b[1;32m     62\u001b[0m \u001b[38;5;250m    \u001b[39m\u001b[38;5;124;03m'''\u001b[39;00m\n\u001b[1;32m     63\u001b[0m \u001b[38;5;124;03m    Calculate rho' by applying K @ rho @ K(dagger)\u001b[39;00m\n\u001b[1;32m     64\u001b[0m \u001b[38;5;124;03m    '''\u001b[39;00m\n\u001b[0;32m---> 65\u001b[0m     rho_2 \u001b[38;5;241m=\u001b[39m \u001b[38;5;28;43msum\u001b[39;49m\u001b[43m(\u001b[49m\u001b[43mK\u001b[49m\u001b[43m \u001b[49m\u001b[38;5;241;43m@\u001b[39;49m\u001b[43m \u001b[49m\u001b[43mrho\u001b[49m\u001b[43m \u001b[49m\u001b[38;5;241;43m@\u001b[39;49m\u001b[43m \u001b[49m\u001b[43mnp\u001b[49m\u001b[38;5;241;43m.\u001b[39;49m\u001b[43mtranspose\u001b[49m\u001b[43m(\u001b[49m\u001b[43mnp\u001b[49m\u001b[38;5;241;43m.\u001b[39;49m\u001b[43mconjugate\u001b[49m\u001b[43m(\u001b[49m\u001b[43mK\u001b[49m\u001b[43m)\u001b[49m\u001b[43m)\u001b[49m\u001b[43m \u001b[49m\u001b[38;5;28;43;01mfor\u001b[39;49;00m\u001b[43m \u001b[49m\u001b[43mK\u001b[49m\u001b[43m \u001b[49m\u001b[38;5;129;43;01min\u001b[39;49;00m\u001b[43m \u001b[49m\u001b[43mkraus_operators\u001b[49m\u001b[43m)\u001b[49m\n\u001b[1;32m     67\u001b[0m     \u001b[38;5;28;01mreturn\u001b[39;00m rho_2\n",
      "File \u001b[0;32m~/QuantumTomography/base/epsilon_rho.py:65\u001b[0m, in \u001b[0;36m<genexpr>\u001b[0;34m(.0)\u001b[0m\n\u001b[1;32m     61\u001b[0m \u001b[38;5;28;01mdef\u001b[39;00m\u001b[38;5;250m \u001b[39m\u001b[38;5;21mcalculate_from_kraus_operators\u001b[39m(rho, kraus_operators):\n\u001b[1;32m     62\u001b[0m \u001b[38;5;250m    \u001b[39m\u001b[38;5;124;03m'''\u001b[39;00m\n\u001b[1;32m     63\u001b[0m \u001b[38;5;124;03m    Calculate rho' by applying K @ rho @ K(dagger)\u001b[39;00m\n\u001b[1;32m     64\u001b[0m \u001b[38;5;124;03m    '''\u001b[39;00m\n\u001b[0;32m---> 65\u001b[0m     rho_2 \u001b[38;5;241m=\u001b[39m \u001b[38;5;28msum\u001b[39m(K \u001b[38;5;241m@\u001b[39m rho \u001b[38;5;241m@\u001b[39m np\u001b[38;5;241m.\u001b[39mtranspose(np\u001b[38;5;241m.\u001b[39mconjugate(K)) \u001b[38;5;28;01mfor\u001b[39;00m K \u001b[38;5;129;01min\u001b[39;00m kraus_operators)\n\u001b[1;32m     67\u001b[0m     \u001b[38;5;28;01mreturn\u001b[39;00m rho_2\n",
      "File \u001b[0;32m~/.local/lib/python3.10/site-packages/tensorflow/python/framework/tensor.py:131\u001b[0m, in \u001b[0;36m_TensorIterator.__next__\u001b[0;34m(self)\u001b[0m\n\u001b[1;32m    129\u001b[0m \u001b[38;5;28;01mif\u001b[39;00m \u001b[38;5;28mself\u001b[39m\u001b[38;5;241m.\u001b[39m_index \u001b[38;5;241m==\u001b[39m \u001b[38;5;28mself\u001b[39m\u001b[38;5;241m.\u001b[39m_limit:\n\u001b[1;32m    130\u001b[0m   \u001b[38;5;28;01mraise\u001b[39;00m \u001b[38;5;167;01mStopIteration\u001b[39;00m\n\u001b[0;32m--> 131\u001b[0m result \u001b[38;5;241m=\u001b[39m \u001b[38;5;28;43mself\u001b[39;49m\u001b[38;5;241;43m.\u001b[39;49m\u001b[43m_tensor\u001b[49m\u001b[43m[\u001b[49m\u001b[38;5;28;43mself\u001b[39;49m\u001b[38;5;241;43m.\u001b[39;49m\u001b[43m_index\u001b[49m\u001b[43m]\u001b[49m\n\u001b[1;32m    132\u001b[0m \u001b[38;5;28mself\u001b[39m\u001b[38;5;241m.\u001b[39m_index \u001b[38;5;241m+\u001b[39m\u001b[38;5;241m=\u001b[39m \u001b[38;5;241m1\u001b[39m\n\u001b[1;32m    133\u001b[0m \u001b[38;5;28;01mreturn\u001b[39;00m result\n",
      "File \u001b[0;32m~/.local/lib/python3.10/site-packages/tensorflow/python/util/traceback_utils.py:150\u001b[0m, in \u001b[0;36mfilter_traceback.<locals>.error_handler\u001b[0;34m(*args, **kwargs)\u001b[0m\n\u001b[1;32m    148\u001b[0m filtered_tb \u001b[38;5;241m=\u001b[39m \u001b[38;5;28;01mNone\u001b[39;00m\n\u001b[1;32m    149\u001b[0m \u001b[38;5;28;01mtry\u001b[39;00m:\n\u001b[0;32m--> 150\u001b[0m   \u001b[38;5;28;01mreturn\u001b[39;00m \u001b[43mfn\u001b[49m\u001b[43m(\u001b[49m\u001b[38;5;241;43m*\u001b[39;49m\u001b[43margs\u001b[49m\u001b[43m,\u001b[49m\u001b[43m \u001b[49m\u001b[38;5;241;43m*\u001b[39;49m\u001b[38;5;241;43m*\u001b[39;49m\u001b[43mkwargs\u001b[49m\u001b[43m)\u001b[49m\n\u001b[1;32m    151\u001b[0m \u001b[38;5;28;01mexcept\u001b[39;00m \u001b[38;5;167;01mException\u001b[39;00m \u001b[38;5;28;01mas\u001b[39;00m e:\n\u001b[1;32m    152\u001b[0m   filtered_tb \u001b[38;5;241m=\u001b[39m _process_traceback_frames(e\u001b[38;5;241m.\u001b[39m__traceback__)\n",
      "File \u001b[0;32m~/.local/lib/python3.10/site-packages/tensorflow/python/util/dispatch.py:1260\u001b[0m, in \u001b[0;36madd_dispatch_support.<locals>.decorator.<locals>.op_dispatch_handler\u001b[0;34m(*args, **kwargs)\u001b[0m\n\u001b[1;32m   1258\u001b[0m \u001b[38;5;66;03m# Fallback dispatch system (dispatch v1):\u001b[39;00m\n\u001b[1;32m   1259\u001b[0m \u001b[38;5;28;01mtry\u001b[39;00m:\n\u001b[0;32m-> 1260\u001b[0m   \u001b[38;5;28;01mreturn\u001b[39;00m \u001b[43mdispatch_target\u001b[49m\u001b[43m(\u001b[49m\u001b[38;5;241;43m*\u001b[39;49m\u001b[43margs\u001b[49m\u001b[43m,\u001b[49m\u001b[43m \u001b[49m\u001b[38;5;241;43m*\u001b[39;49m\u001b[38;5;241;43m*\u001b[39;49m\u001b[43mkwargs\u001b[49m\u001b[43m)\u001b[49m\n\u001b[1;32m   1261\u001b[0m \u001b[38;5;28;01mexcept\u001b[39;00m (\u001b[38;5;167;01mTypeError\u001b[39;00m, \u001b[38;5;167;01mValueError\u001b[39;00m):\n\u001b[1;32m   1262\u001b[0m   \u001b[38;5;66;03m# Note: convert_to_eager_tensor currently raises a ValueError, not a\u001b[39;00m\n\u001b[1;32m   1263\u001b[0m   \u001b[38;5;66;03m# TypeError, when given unexpected types.  So we need to catch both.\u001b[39;00m\n\u001b[1;32m   1264\u001b[0m   result \u001b[38;5;241m=\u001b[39m dispatch(op_dispatch_handler, args, kwargs)\n",
      "File \u001b[0;32m~/.local/lib/python3.10/site-packages/tensorflow/python/ops/tensor_getitem_override.py:137\u001b[0m, in \u001b[0;36m_slice_helper\u001b[0;34m(tensor, slice_spec, var)\u001b[0m\n\u001b[1;32m    135\u001b[0m \u001b[38;5;28;01mfrom\u001b[39;00m\u001b[38;5;250m \u001b[39m\u001b[38;5;21;01mtensorflow\u001b[39;00m\u001b[38;5;21;01m.\u001b[39;00m\u001b[38;5;21;01mpython\u001b[39;00m\u001b[38;5;21;01m.\u001b[39;00m\u001b[38;5;21;01mframework\u001b[39;00m\u001b[38;5;250m \u001b[39m\u001b[38;5;28;01mimport\u001b[39;00m constant_op  \u001b[38;5;66;03m# pylint: disable=g-import-not-at-top\u001b[39;00m\n\u001b[1;32m    136\u001b[0m \u001b[38;5;28;01mfrom\u001b[39;00m\u001b[38;5;250m \u001b[39m\u001b[38;5;21;01mtensorflow\u001b[39;00m\u001b[38;5;21;01m.\u001b[39;00m\u001b[38;5;21;01mpython\u001b[39;00m\u001b[38;5;21;01m.\u001b[39;00m\u001b[38;5;21;01mops\u001b[39;00m\u001b[38;5;250m \u001b[39m\u001b[38;5;28;01mimport\u001b[39;00m array_ops  \u001b[38;5;66;03m# pylint: disable=g-import-not-at-top\u001b[39;00m\n\u001b[0;32m--> 137\u001b[0m tensor \u001b[38;5;241m=\u001b[39m \u001b[43mops\u001b[49m\u001b[38;5;241;43m.\u001b[39;49m\u001b[43mconvert_to_tensor\u001b[49m\u001b[43m(\u001b[49m\u001b[43mtensor\u001b[49m\u001b[43m)\u001b[49m\n\u001b[1;32m    138\u001b[0m \u001b[38;5;66;03m# TODO(wangpeng): Consider supporting var\u001b[39;00m\n\u001b[1;32m    139\u001b[0m \u001b[38;5;28;01mif\u001b[39;00m var \u001b[38;5;129;01mis\u001b[39;00m \u001b[38;5;28;01mNone\u001b[39;00m \u001b[38;5;129;01mand\u001b[39;00m ops\u001b[38;5;241m.\u001b[39m_numpy_style_slicing:  \u001b[38;5;66;03m# pylint: disable=protected-access\u001b[39;00m\n",
      "File \u001b[0;32m~/.local/lib/python3.10/site-packages/tensorflow/python/profiler/trace.py:183\u001b[0m, in \u001b[0;36mtrace_wrapper.<locals>.inner_wrapper.<locals>.wrapped\u001b[0;34m(*args, **kwargs)\u001b[0m\n\u001b[1;32m    181\u001b[0m   \u001b[38;5;28;01mwith\u001b[39;00m Trace(trace_name, \u001b[38;5;241m*\u001b[39m\u001b[38;5;241m*\u001b[39mtrace_kwargs):\n\u001b[1;32m    182\u001b[0m     \u001b[38;5;28;01mreturn\u001b[39;00m func(\u001b[38;5;241m*\u001b[39margs, \u001b[38;5;241m*\u001b[39m\u001b[38;5;241m*\u001b[39mkwargs)\n\u001b[0;32m--> 183\u001b[0m \u001b[38;5;28;01mreturn\u001b[39;00m \u001b[43mfunc\u001b[49m\u001b[43m(\u001b[49m\u001b[38;5;241;43m*\u001b[39;49m\u001b[43margs\u001b[49m\u001b[43m,\u001b[49m\u001b[43m \u001b[49m\u001b[38;5;241;43m*\u001b[39;49m\u001b[38;5;241;43m*\u001b[39;49m\u001b[43mkwargs\u001b[49m\u001b[43m)\u001b[49m\n",
      "File \u001b[0;32m~/.local/lib/python3.10/site-packages/tensorflow/python/framework/ops.py:732\u001b[0m, in \u001b[0;36mconvert_to_tensor\u001b[0;34m(value, dtype, name, as_ref, preferred_dtype, dtype_hint, ctx, accepted_result_types)\u001b[0m\n\u001b[1;32m    730\u001b[0m \u001b[38;5;66;03m# TODO(b/142518781): Fix all call-sites and remove redundant arg\u001b[39;00m\n\u001b[1;32m    731\u001b[0m preferred_dtype \u001b[38;5;241m=\u001b[39m preferred_dtype \u001b[38;5;129;01mor\u001b[39;00m dtype_hint\n\u001b[0;32m--> 732\u001b[0m \u001b[38;5;28;01mreturn\u001b[39;00m \u001b[43mtensor_conversion_registry\u001b[49m\u001b[38;5;241;43m.\u001b[39;49m\u001b[43mconvert\u001b[49m\u001b[43m(\u001b[49m\n\u001b[1;32m    733\u001b[0m \u001b[43m    \u001b[49m\u001b[43mvalue\u001b[49m\u001b[43m,\u001b[49m\u001b[43m \u001b[49m\u001b[43mdtype\u001b[49m\u001b[43m,\u001b[49m\u001b[43m \u001b[49m\u001b[43mname\u001b[49m\u001b[43m,\u001b[49m\u001b[43m \u001b[49m\u001b[43mas_ref\u001b[49m\u001b[43m,\u001b[49m\u001b[43m \u001b[49m\u001b[43mpreferred_dtype\u001b[49m\u001b[43m,\u001b[49m\u001b[43m \u001b[49m\u001b[43maccepted_result_types\u001b[49m\n\u001b[1;32m    734\u001b[0m \u001b[43m\u001b[49m\u001b[43m)\u001b[49m\n",
      "File \u001b[0;32m~/.local/lib/python3.10/site-packages/tensorflow/python/framework/tensor_conversion_registry.py:209\u001b[0m, in \u001b[0;36mconvert\u001b[0;34m(value, dtype, name, as_ref, preferred_dtype, accepted_result_types)\u001b[0m\n\u001b[1;32m    207\u001b[0m overload \u001b[38;5;241m=\u001b[39m \u001b[38;5;28mgetattr\u001b[39m(value, \u001b[38;5;124m\"\u001b[39m\u001b[38;5;124m__tf_tensor__\u001b[39m\u001b[38;5;124m\"\u001b[39m, \u001b[38;5;28;01mNone\u001b[39;00m)\n\u001b[1;32m    208\u001b[0m \u001b[38;5;28;01mif\u001b[39;00m overload \u001b[38;5;129;01mis\u001b[39;00m \u001b[38;5;129;01mnot\u001b[39;00m \u001b[38;5;28;01mNone\u001b[39;00m:\n\u001b[0;32m--> 209\u001b[0m   \u001b[38;5;28;01mreturn\u001b[39;00m \u001b[43moverload\u001b[49m\u001b[43m(\u001b[49m\u001b[43mdtype\u001b[49m\u001b[43m,\u001b[49m\u001b[43m \u001b[49m\u001b[43mname\u001b[49m\u001b[43m)\u001b[49m  \u001b[38;5;66;03m#  pylint: disable=not-callable\u001b[39;00m\n\u001b[1;32m    211\u001b[0m \u001b[38;5;28;01mfor\u001b[39;00m base_type, conversion_func \u001b[38;5;129;01min\u001b[39;00m get(\u001b[38;5;28mtype\u001b[39m(value)):\n\u001b[1;32m    212\u001b[0m   \u001b[38;5;66;03m# If dtype is None but preferred_dtype is not None, we try to\u001b[39;00m\n\u001b[1;32m    213\u001b[0m   \u001b[38;5;66;03m# cast to preferred_dtype first.\u001b[39;00m\n\u001b[1;32m    214\u001b[0m   ret \u001b[38;5;241m=\u001b[39m \u001b[38;5;28;01mNone\u001b[39;00m\n",
      "File \u001b[0;32m~/.local/lib/python3.10/site-packages/tensorflow/python/framework/ops.py:618\u001b[0m, in \u001b[0;36m_EagerTensorBase.__tf_tensor__\u001b[0;34m(self, dtype, name)\u001b[0m\n\u001b[1;32m    615\u001b[0m \u001b[38;5;28;01mdef\u001b[39;00m\u001b[38;5;250m \u001b[39m\u001b[38;5;21m__tf_tensor__\u001b[39m(\n\u001b[1;32m    616\u001b[0m     \u001b[38;5;28mself\u001b[39m, dtype: Optional[dtypes\u001b[38;5;241m.\u001b[39mDType] \u001b[38;5;241m=\u001b[39m \u001b[38;5;28;01mNone\u001b[39;00m, name: Optional[\u001b[38;5;28mstr\u001b[39m] \u001b[38;5;241m=\u001b[39m \u001b[38;5;28;01mNone\u001b[39;00m\n\u001b[1;32m    617\u001b[0m     ) \u001b[38;5;241m-\u001b[39m\u001b[38;5;241m>\u001b[39m tensor_lib\u001b[38;5;241m.\u001b[39mTensor:\n\u001b[0;32m--> 618\u001b[0m   \u001b[38;5;28;01mif\u001b[39;00m \u001b[38;5;129;01mnot\u001b[39;00m \u001b[43mcontext\u001b[49m\u001b[38;5;241;43m.\u001b[39;49m\u001b[43mexecuting_eagerly\u001b[49m\u001b[43m(\u001b[49m\u001b[43m)\u001b[49m:\n\u001b[1;32m    619\u001b[0m     graph \u001b[38;5;241m=\u001b[39m get_default_graph()\n\u001b[1;32m    620\u001b[0m     \u001b[38;5;28;01mif\u001b[39;00m \u001b[38;5;129;01mnot\u001b[39;00m graph\u001b[38;5;241m.\u001b[39mbuilding_function:\n",
      "File \u001b[0;32m~/.local/lib/python3.10/site-packages/tensorflow/python/eager/context.py:2628\u001b[0m, in \u001b[0;36mexecuting_eagerly\u001b[0;34m()\u001b[0m\n\u001b[1;32m   2625\u001b[0m \u001b[38;5;28;01mif\u001b[39;00m ctx \u001b[38;5;129;01mis\u001b[39;00m \u001b[38;5;28;01mNone\u001b[39;00m:\n\u001b[1;32m   2626\u001b[0m   \u001b[38;5;28;01mreturn\u001b[39;00m default_execution_mode \u001b[38;5;241m==\u001b[39m EAGER_MODE\n\u001b[0;32m-> 2628\u001b[0m \u001b[38;5;28;01mreturn\u001b[39;00m \u001b[43mctx\u001b[49m\u001b[38;5;241;43m.\u001b[39;49m\u001b[43mexecuting_eagerly\u001b[49m\u001b[43m(\u001b[49m\u001b[43m)\u001b[49m\n",
      "\u001b[0;31mKeyboardInterrupt\u001b[0m: "
     ]
    }
   ],
   "source": [
    "import time\n",
    "import os\n",
    "from base import fast_QPT_recreate\n",
    "from base import optimize_algorithm\n",
    "experiment_folder = 'results/experiment_new/comparison'\n",
    "\n",
    "for n in range (3, 4):\n",
    "    if (experiment_folder == ''):\n",
    "        break\n",
    "    else:\n",
    "        write_folder = os.path.join(experiment_folder, str(n) + \"_qubits\")\n",
    "        if not os.path.exists(write_folder):\n",
    "            os.makedirs(write_folder)\n",
    "    print(f\"N={n}\")\n",
    "\n",
    "    rho_list, measurement_operators, epsilon, kraus_operators = initExperiment(n)\n",
    "    \n",
    "    # ----------------------------\n",
    "    # Fast QPT based on multi-shot measurement\n",
    "    start_time = time.time()\n",
    "    kraus_operators_res, cost_dict = fast_QPT_recreate.optimize_adam_kraus(measurement_operators, rho_list, epsilon, kraus_operators, n, 0.06, num_loop=200)\n",
    "    end_time = time.time()\n",
    "    multi_shot_time = end_time - start_time\n",
    "    \n",
    "    rho3_list = epsilon_rho.calculate_set_from_kraus_operators(kraus_operators_res, rho_list, epsilon)\n",
    "    rho2_list, rho2_kraus_list = calculate_rho2_lists(rho_list, epsilon, kraus_operators_res)\n",
    "    \n",
    "    mean_fidelity_rho_rho3 = metrics.mean_fidelity(rho3_list, rho_list)\n",
    "    mean_fidelity_rho2_rho2 = metrics.mean_fidelity(rho2_kraus_list, rho2_list)\n",
    "\n",
    "    # ----------------------------\n",
    "    # Fast QPT based on single-shot measurement\n",
    "    start_time = time.time()\n",
    "    kraus_operators_res_our_method, cost_dict_our_method = optimize_algorithm.optimize_adam_kraus_set(rho_list, epsilon, kraus_operators, n, alpha=0.08, num_loop=200)\n",
    "    end_time = time.time()\n",
    "    single_shot_time = end_time - start_time\n",
    "\n",
    "    rho3_list = epsilon_rho.calculate_set_from_kraus_operators(kraus_operators_res_our_method, rho_list, epsilon)\n",
    "    rho2_list, rho2_kraus_list = calculate_rho2_lists(rho_list, epsilon, kraus_operators_res_our_method)\n",
    "    \n",
    "    mean_fidelity_rho_rho3_our_method = metrics.mean_fidelity(rho3_list, rho_list)\n",
    "    mean_fidelity_rho2_rho2_our_method = metrics.mean_fidelity(rho2_kraus_list, rho2_list)\n",
    "\n",
    "    write_to_file(os.path.join(write_folder, \"rho_list.txt\"), rho_list)\n",
    "    write_to_file(os.path.join(write_folder,\"epsilon.txt\"), epsilon)\n",
    "    write_to_file(os.path.join(write_folder,\"measurement_operators.txt\"), measurement_operators)\n",
    "    write_to_file(os.path.join(write_folder,\"init_kraus_operators.txt\"), kraus_operators)\n",
    "\n",
    "    write_to_file(os.path.join(write_folder,\"kraus_operators.txt\"), kraus_operators_res)\n",
    "    write_to_file(os.path.join(write_folder,\"cost_dict.txt\"), cost_dict)\n",
    "    write_to_file(os.path.join(write_folder,\"time.txt\"), multi_shot_time)\n",
    "\n",
    "    write_to_file(os.path.join(write_folder,\"kraus_operators_ours.txt\"), kraus_operators_res_our_method)\n",
    "    write_to_file(os.path.join(write_folder,\"cost_dict_ours.txt\"), cost_dict_our_method)\n",
    "    write_to_file(os.path.join(write_folder,\"time_ours.txt\"), single_shot_time)\n",
    "\n",
    "    write_to_file(os.path.join(write_folder,\"mean_fidelity_rho_rho3.txt\"), mean_fidelity_rho_rho3.numpy())\n",
    "    write_to_file(os.path.join(write_folder,\"mean_fidelity_rho2_rho2.txt\"), mean_fidelity_rho2_rho2.numpy())\n",
    "    write_to_file(os.path.join(write_folder,\"mean_fidelity_rho_rho3_ours.txt\"), mean_fidelity_rho_rho3_our_method.numpy())\n",
    "    write_to_file(os.path.join(write_folder,\"mean_fidelity_rho2_rho2_ours.txt\"), mean_fidelity_rho2_rho2_our_method.numpy())"
   ]
  },
  {
   "cell_type": "code",
   "execution_count": 11,
   "metadata": {},
   "outputs": [
    {
     "name": "stderr",
     "output_type": "stream",
     "text": [
      "2025-03-01 18:49:26.972043: I tensorflow/core/framework/local_rendezvous.cc:405] Local rendezvous is aborting with status: INVALID_ARGUMENT: Matrix size-incompatible: In[0]: [4,4], In[1]: [8,8]\n"
     ]
    },
    {
     "ename": "InvalidArgumentError",
     "evalue": "{{function_node __wrapped__MatMul_device_/job:localhost/replica:0/task:0/device:CPU:0}} Matrix size-incompatible: In[0]: [4,4], In[1]: [8,8] [Op:MatMul] name: ",
     "output_type": "error",
     "traceback": [
      "\u001b[0;31m---------------------------------------------------------------------------\u001b[0m",
      "\u001b[0;31mInvalidArgumentError\u001b[0m                      Traceback (most recent call last)",
      "Cell \u001b[0;32mIn[11], line 7\u001b[0m\n\u001b[1;32m      3\u001b[0m rho_test \u001b[38;5;241m=\u001b[39m generator_haar\u001b[38;5;241m.\u001b[39mgenerate_rho_haar(n)\n\u001b[1;32m      5\u001b[0m rho2 \u001b[38;5;241m=\u001b[39m epsilon_rho\u001b[38;5;241m.\u001b[39mcalculate_from_unitary(rho_test, epsilon)\n\u001b[0;32m----> 7\u001b[0m rho2_ours \u001b[38;5;241m=\u001b[39m \u001b[43mepsilon_rho\u001b[49m\u001b[38;5;241;43m.\u001b[39;49m\u001b[43mcalculate_from_kraus_operators\u001b[49m\u001b[43m(\u001b[49m\u001b[43mrho_test\u001b[49m\u001b[43m,\u001b[49m\u001b[43m \u001b[49m\u001b[43mkraus_operators_res_our_method\u001b[49m\u001b[43m)\u001b[49m\n\u001b[1;32m      9\u001b[0m rho2_theirs \u001b[38;5;241m=\u001b[39m epsilon_rho\u001b[38;5;241m.\u001b[39mcalculate_from_kraus_operators(rho_test, kraus_operators_res)\n\u001b[1;32m     11\u001b[0m \u001b[38;5;66;03m#print (rho2)\u001b[39;00m\n",
      "File \u001b[0;32m~/QuantumTomography/base/epsilon_rho.py:65\u001b[0m, in \u001b[0;36mcalculate_from_kraus_operators\u001b[0;34m(rho, kraus_operators)\u001b[0m\n\u001b[1;32m     61\u001b[0m \u001b[38;5;28;01mdef\u001b[39;00m\u001b[38;5;250m \u001b[39m\u001b[38;5;21mcalculate_from_kraus_operators\u001b[39m(rho, kraus_operators):\n\u001b[1;32m     62\u001b[0m \u001b[38;5;250m    \u001b[39m\u001b[38;5;124;03m'''\u001b[39;00m\n\u001b[1;32m     63\u001b[0m \u001b[38;5;124;03m    Calculate rho' by applying K @ rho @ K(dagger)\u001b[39;00m\n\u001b[1;32m     64\u001b[0m \u001b[38;5;124;03m    '''\u001b[39;00m\n\u001b[0;32m---> 65\u001b[0m     rho_2 \u001b[38;5;241m=\u001b[39m \u001b[38;5;28;43msum\u001b[39;49m\u001b[43m(\u001b[49m\u001b[43mK\u001b[49m\u001b[43m \u001b[49m\u001b[38;5;241;43m@\u001b[39;49m\u001b[43m \u001b[49m\u001b[43mrho\u001b[49m\u001b[43m \u001b[49m\u001b[38;5;241;43m@\u001b[39;49m\u001b[43m \u001b[49m\u001b[43mnp\u001b[49m\u001b[38;5;241;43m.\u001b[39;49m\u001b[43mtranspose\u001b[49m\u001b[43m(\u001b[49m\u001b[43mnp\u001b[49m\u001b[38;5;241;43m.\u001b[39;49m\u001b[43mconjugate\u001b[49m\u001b[43m(\u001b[49m\u001b[43mK\u001b[49m\u001b[43m)\u001b[49m\u001b[43m)\u001b[49m\u001b[43m \u001b[49m\u001b[38;5;28;43;01mfor\u001b[39;49;00m\u001b[43m \u001b[49m\u001b[43mK\u001b[49m\u001b[43m \u001b[49m\u001b[38;5;129;43;01min\u001b[39;49;00m\u001b[43m \u001b[49m\u001b[43mkraus_operators\u001b[49m\u001b[43m)\u001b[49m\n\u001b[1;32m     67\u001b[0m     \u001b[38;5;28;01mreturn\u001b[39;00m rho_2\n",
      "File \u001b[0;32m~/QuantumTomography/base/epsilon_rho.py:65\u001b[0m, in \u001b[0;36m<genexpr>\u001b[0;34m(.0)\u001b[0m\n\u001b[1;32m     61\u001b[0m \u001b[38;5;28;01mdef\u001b[39;00m\u001b[38;5;250m \u001b[39m\u001b[38;5;21mcalculate_from_kraus_operators\u001b[39m(rho, kraus_operators):\n\u001b[1;32m     62\u001b[0m \u001b[38;5;250m    \u001b[39m\u001b[38;5;124;03m'''\u001b[39;00m\n\u001b[1;32m     63\u001b[0m \u001b[38;5;124;03m    Calculate rho' by applying K @ rho @ K(dagger)\u001b[39;00m\n\u001b[1;32m     64\u001b[0m \u001b[38;5;124;03m    '''\u001b[39;00m\n\u001b[0;32m---> 65\u001b[0m     rho_2 \u001b[38;5;241m=\u001b[39m \u001b[38;5;28msum\u001b[39m(\u001b[43mK\u001b[49m\u001b[43m \u001b[49m\u001b[38;5;241;43m@\u001b[39;49m\u001b[43m \u001b[49m\u001b[43mrho\u001b[49m \u001b[38;5;241m@\u001b[39m np\u001b[38;5;241m.\u001b[39mtranspose(np\u001b[38;5;241m.\u001b[39mconjugate(K)) \u001b[38;5;28;01mfor\u001b[39;00m K \u001b[38;5;129;01min\u001b[39;00m kraus_operators)\n\u001b[1;32m     67\u001b[0m     \u001b[38;5;28;01mreturn\u001b[39;00m rho_2\n",
      "File \u001b[0;32m~/.local/lib/python3.10/site-packages/tensorflow/python/util/traceback_utils.py:153\u001b[0m, in \u001b[0;36mfilter_traceback.<locals>.error_handler\u001b[0;34m(*args, **kwargs)\u001b[0m\n\u001b[1;32m    151\u001b[0m \u001b[38;5;28;01mexcept\u001b[39;00m \u001b[38;5;167;01mException\u001b[39;00m \u001b[38;5;28;01mas\u001b[39;00m e:\n\u001b[1;32m    152\u001b[0m   filtered_tb \u001b[38;5;241m=\u001b[39m _process_traceback_frames(e\u001b[38;5;241m.\u001b[39m__traceback__)\n\u001b[0;32m--> 153\u001b[0m   \u001b[38;5;28;01mraise\u001b[39;00m e\u001b[38;5;241m.\u001b[39mwith_traceback(filtered_tb) \u001b[38;5;28;01mfrom\u001b[39;00m\u001b[38;5;250m \u001b[39m\u001b[38;5;28;01mNone\u001b[39;00m\n\u001b[1;32m    154\u001b[0m \u001b[38;5;28;01mfinally\u001b[39;00m:\n\u001b[1;32m    155\u001b[0m   \u001b[38;5;28;01mdel\u001b[39;00m filtered_tb\n",
      "File \u001b[0;32m~/.local/lib/python3.10/site-packages/tensorflow/python/framework/ops.py:6002\u001b[0m, in \u001b[0;36mraise_from_not_ok_status\u001b[0;34m(e, name)\u001b[0m\n\u001b[1;32m   6000\u001b[0m \u001b[38;5;28;01mdef\u001b[39;00m\u001b[38;5;250m \u001b[39m\u001b[38;5;21mraise_from_not_ok_status\u001b[39m(e, name) \u001b[38;5;241m-\u001b[39m\u001b[38;5;241m>\u001b[39m NoReturn:\n\u001b[1;32m   6001\u001b[0m   e\u001b[38;5;241m.\u001b[39mmessage \u001b[38;5;241m+\u001b[39m\u001b[38;5;241m=\u001b[39m (\u001b[38;5;124m\"\u001b[39m\u001b[38;5;124m name: \u001b[39m\u001b[38;5;124m\"\u001b[39m \u001b[38;5;241m+\u001b[39m \u001b[38;5;28mstr\u001b[39m(name \u001b[38;5;28;01mif\u001b[39;00m name \u001b[38;5;129;01mis\u001b[39;00m \u001b[38;5;129;01mnot\u001b[39;00m \u001b[38;5;28;01mNone\u001b[39;00m \u001b[38;5;28;01melse\u001b[39;00m \u001b[38;5;124m\"\u001b[39m\u001b[38;5;124m\"\u001b[39m))\n\u001b[0;32m-> 6002\u001b[0m   \u001b[38;5;28;01mraise\u001b[39;00m core\u001b[38;5;241m.\u001b[39m_status_to_exception(e) \u001b[38;5;28;01mfrom\u001b[39;00m\u001b[38;5;250m \u001b[39m\u001b[38;5;28;01mNone\u001b[39;00m\n",
      "\u001b[0;31mInvalidArgumentError\u001b[0m: {{function_node __wrapped__MatMul_device_/job:localhost/replica:0/task:0/device:CPU:0}} Matrix size-incompatible: In[0]: [4,4], In[1]: [8,8] [Op:MatMul] name: "
     ]
    }
   ],
   "source": [
    "from base import epsilon_rho\n",
    "from base import metrics\n",
    "rho_test = generator_haar.generate_rho_haar(n)\n",
    "\n",
    "rho2 = epsilon_rho.calculate_from_unitary(rho_test, epsilon)\n",
    "\n",
    "rho2_ours = epsilon_rho.calculate_from_kraus_operators(rho_test, kraus_operators_res_our_method)\n",
    "\n",
    "rho2_theirs = epsilon_rho.calculate_from_kraus_operators(rho_test, kraus_operators_res)\n",
    "\n",
    "#print (rho2)\n",
    "\n",
    "print (\"Their method: \\n\")\n",
    "#print (rho2_theirs)\n",
    "print(metrics.compilation_trace_fidelity(rho2, rho2_theirs))\n",
    "\n",
    "print (\"Our method: \\n\")\n",
    "#print (rho2_ours)\n",
    "print(metrics.compilation_trace_fidelity(rho2, rho2_ours))"
   ]
  },
  {
   "cell_type": "code",
   "execution_count": null,
   "metadata": {},
   "outputs": [],
   "source": [
    "def check_rho_properties(rho_list):\n",
    "    for i, rho in enumerate(rho_list):\n",
    "        is_hermitian = np.allclose(rho, np.transpose(np.conjugate(rho)))  # Check if ρ = ρ†\n",
    "        eigenvalues = np.linalg.eigvalsh(rho)  # Compute eigenvalues\n",
    "        is_positive_semidefinite = np.all(eigenvalues >= -1e-10)  # Allow small numerical errors\n",
    "        trace_one = np.isclose(np.trace(rho), 1)  # Check if Tr(ρ) ≈ 1\n",
    "        \n",
    "        print(f\"ρ[{i}]: Hermitian = {is_hermitian}, Positive Semi-definite = {is_positive_semidefinite}, Trace = {np.trace(rho)}\")\n",
    "        print(f\"Eigenvalues: {eigenvalues}\\n\")\n",
    "\n",
    "check_rho_properties(rho_list)\n"
   ]
  },
  {
   "cell_type": "code",
   "execution_count": null,
   "metadata": {},
   "outputs": [],
   "source": [
    "import tensorflow as tf\n",
    "import numpy as np\n",
    "\n",
    "def check_kraus_validity(kraus_operators):\n",
    "    \"\"\"Check if sum(K_i^† K_i) = I\"\"\"\n",
    "    dim = kraus_operators[0].shape[0]  # Kích thước của ma trận\n",
    "    identity = tf.eye(dim, dtype=tf.complex128)  # Ma trận đơn vị\n",
    "    summation = sum(tf.linalg.adjoint(K) @ K for K in kraus_operators)  # ∑ K_i^† K_i\n",
    "\n",
    "    # So sánh với ma trận đơn vị\n",
    "    error = tf.linalg.norm(summation - identity).numpy().real\n",
    "    \n",
    "    if np.isclose(error, 0, atol=1e-6):\n",
    "        return\n",
    "    else:\n",
    "        print(\"❌ Invalid Kraus operators! The sum does not equal identity.\")\n",
    "\n",
    "# Kiểm tra\n",
    "check_kraus_validity(kraus_operators)\n"
   ]
  },
  {
   "cell_type": "code",
   "execution_count": null,
   "metadata": {},
   "outputs": [],
   "source": [
    "import numpy as np\n",
    "\n",
    "def check_valid_measurements(M_list, d):\n",
    "    \"\"\"\n",
    "    Kiểm tra xem danh sách các measurement operators M_list có hợp lệ không.\n",
    "    \n",
    "    Điều kiện hợp lệ:\n",
    "    1. M_i phải Hermitian\n",
    "    2. M_i phải Positive Semi-Definite (PSD)\n",
    "    3. Tổng M_i phải bằng ma trận đơn vị I (trong trường hợp POVM)\n",
    "    \n",
    "    Args:\n",
    "        M_list: Danh sách các phép đo\n",
    "        d: Kích thước không gian Hilbert (ví dụ: d=2^n cho hệ n qubit)\n",
    "        \n",
    "    Returns:\n",
    "        None (In kết quả)\n",
    "    \"\"\"\n",
    "    I = np.eye(d)  # Ma trận đơn vị cùng kích thước\n",
    "\n",
    "    completeness_check = np.zeros((d, d), dtype=complex)  # Tổng của các M_i\n",
    "\n",
    "    for i, M in enumerate(M_list):\n",
    "        is_hermitian = np.allclose(M, M.conj().T)  # Kiểm tra Hermitian\n",
    "        eigvals = np.linalg.eigvalsh(M)  # Lấy eigenvalues\n",
    "        is_psd = np.all(eigvals >= -1e-10)  # Kiểm tra PSD (chấp nhận sai số nhỏ)\n",
    "\n",
    "        completeness_check += M  # Cộng vào tổng\n",
    "\n",
    "        print(f\"M[{i}]: Hermitian = {is_hermitian}, Positive Semi-Definite = {is_psd}\")\n",
    "        print(f\"  Eigenvalues: {eigvals}\\n\")\n",
    "\n",
    "    # Kiểm tra tổng M_i có bằng I không (chỉ cần thiết nếu là POVM)\n",
    "    is_complete = np.allclose(completeness_check, I)\n",
    "    print(completeness_check)\n",
    "    print(f\"Completeness Check (ΣM_i = I): {is_complete}\")\n",
    "check_valid_measurements(M_list, 2**n)\n"
   ]
  }
 ],
 "metadata": {
  "kernelspec": {
   "display_name": "Python 3",
   "language": "python",
   "name": "python3"
  },
  "language_info": {
   "codemirror_mode": {
    "name": "ipython",
    "version": 3
   },
   "file_extension": ".py",
   "mimetype": "text/x-python",
   "name": "python",
   "nbconvert_exporter": "python",
   "pygments_lexer": "ipython3",
   "version": "3.10.12"
  }
 },
 "nbformat": 4,
 "nbformat_minor": 2
}
