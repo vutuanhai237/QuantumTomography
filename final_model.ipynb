{
 "cells": [
  {
   "cell_type": "code",
   "execution_count": 10,
   "metadata": {},
   "outputs": [],
   "source": [
    "import init\n",
    "import epsilon_rho\n",
    "import metrics\n",
    "import optimize_algorithm as optimize\n",
    "import numpy as np"
   ]
  },
  {
   "cell_type": "code",
   "execution_count": 11,
   "metadata": {},
   "outputs": [],
   "source": [
    "def quantum_process_tomography_dephasing (num_qubits, gamma, num_loop, rho, kraus_operators):\n",
    "    rho2 = epsilon_rho.calculate_dephasing(rho, num_qubits, gamma)\n",
    "    # Optimizing\n",
    "    out_kraus_operators = optimize.optimize_adam(rho, rho2, kraus_operators, num_qubits, 0.005, num_loop)\n",
    "\n",
    "    _cost = 1 - metrics.compilation_trace_fidelity(rho, epsilon_rho.calculate_from_kraus_operators(rho2, out_kraus_operators))\n",
    "    return rho2, out_kraus_operators, _cost\n"
   ]
  },
  {
   "cell_type": "code",
   "execution_count": 12,
   "metadata": {},
   "outputs": [],
   "source": [
    "num_qubits = 3\n",
    "rho = init.create_random_state(num_qubits=num_qubits)\n",
    "unitary_matrix = init.create_unitary_matrix(num_qubits=num_qubits)\n",
    "kraus_operators = init.create_kraus_operators_from_unitary(unitary_matrix=unitary_matrix) "
   ]
  },
  {
   "cell_type": "code",
   "execution_count": 13,
   "metadata": {},
   "outputs": [
    {
     "name": "stdout",
     "output_type": "stream",
     "text": [
      "DensityMatrix([[0.0140127 +0.j, 0.01574752+0.j, 0.04741399+0.j,\n",
      "                0.05895123+0.j, 0.03398523+0.j, 0.05554852+0.j,\n",
      "                0.05881762+0.j, 0.01203673+0.j],\n",
      "               [0.01574752+0.j, 0.01769711+0.j, 0.05328399+0.j,\n",
      "                0.06624957+0.j, 0.03819271+0.j, 0.06242559+0.j,\n",
      "                0.06609942+0.j, 0.01352691+0.j],\n",
      "               [0.04741399+0.j, 0.05328399+0.j, 0.16043205+0.j,\n",
      "                0.19946995+0.j, 0.11499391+0.j, 0.18795637+0.j,\n",
      "                0.19901785+0.j, 0.04072799+0.j],\n",
      "               [0.05895123+0.j, 0.06624957+0.j, 0.19946995+0.j,\n",
      "                0.24800694+0.j, 0.14297537+0.j, 0.23369177+0.j,\n",
      "                0.24744484+0.j, 0.05063832+0.j],\n",
      "               [0.03398523+0.j, 0.03819271+0.j, 0.11499391+0.j,\n",
      "                0.14297537+0.j, 0.08242493+0.j, 0.1347227 +0.j,\n",
      "                0.14265131+0.j, 0.02919286+0.j],\n",
      "               [0.05554852+0.j, 0.06242559+0.j, 0.18795637+0.j,\n",
      "                0.23369177+0.j, 0.1347227 +0.j, 0.22020287+0.j,\n",
      "                0.23316211+0.j, 0.04771543+0.j],\n",
      "               [0.05881762+0.j, 0.06609942+0.j, 0.19901785+0.j,\n",
      "                0.24744484+0.j, 0.14265131+0.j, 0.23316211+0.j,\n",
      "                0.24688401+0.j, 0.05052355+0.j],\n",
      "               [0.01203673+0.j, 0.01352691+0.j, 0.04072799+0.j,\n",
      "                0.05063832+0.j, 0.02919286+0.j, 0.04771543+0.j,\n",
      "                0.05052355+0.j, 0.01033939+0.j]],\n",
      "              dims=(2, 2, 2))\n"
     ]
    }
   ],
   "source": [
    "print (rho)"
   ]
  },
  {
   "cell_type": "code",
   "execution_count": 14,
   "metadata": {},
   "outputs": [],
   "source": [
    "rho2, out_kraus_operators, _ = quantum_process_tomography_dephasing(num_qubits=num_qubits, \n",
    "                                                                    gamma=0.3, num_loop=700, \n",
    "                                                                    rho=rho, kraus_operators=kraus_operators)"
   ]
  },
  {
   "cell_type": "code",
   "execution_count": 15,
   "metadata": {},
   "outputs": [],
   "source": [
    "rho2_kraus = epsilon_rho.calculate_from_kraus_operators(rho, out_kraus_operators)\n",
    "#epsilon ^ dagger"
   ]
  },
  {
   "cell_type": "code",
   "execution_count": 16,
   "metadata": {},
   "outputs": [
    {
     "data": {
      "text/plain": [
       "<tf.Tensor: shape=(), dtype=complex128, numpy=(0.9842247515415479+0j)>"
      ]
     },
     "execution_count": 16,
     "metadata": {},
     "output_type": "execute_result"
    }
   ],
   "source": [
    "metrics.compilation_trace_fidelity(rho2, np.transpose(np.conjugate(rho2_kraus)))"
   ]
  },
  {
   "cell_type": "code",
   "execution_count": 17,
   "metadata": {},
   "outputs": [],
   "source": [
    "#rho_2 vs rho_2 ^ dagger\n",
    "#rho = rho\n",
    "#rho' = rho2\n",
    "#rho\" = rho3"
   ]
  },
  {
   "cell_type": "code",
   "execution_count": 18,
   "metadata": {},
   "outputs": [
    {
     "name": "stdout",
     "output_type": "stream",
     "text": [
      "0 5 tf.Tensor((-2.326829351417814e-08+6.29296407548244e-25j), shape=(), dtype=complex128)\n",
      "0.05 5 tf.Tensor((2.6857782664535534e-09+8.743682997510855e-25j), shape=(), dtype=complex128)\n",
      "0.1 5 tf.Tensor((-2.378555130633231e-09+7.711977179074344e-25j), shape=(), dtype=complex128)\n",
      "0.15 5 tf.Tensor((-8.898073833307762e-09+7.278030711569055e-25j), shape=(), dtype=complex128)\n",
      "0.2 5 tf.Tensor((-8.134279916305331e-09+5.301851313595372e-25j), shape=(), dtype=complex128)\n",
      "0.25 5 tf.Tensor((-5.8473312858353665e-09+6.636899788068782e-25j), shape=(), dtype=complex128)\n",
      "0.3 5 tf.Tensor((8.467325063321596e-09+7.432182021058293e-25j), shape=(), dtype=complex128)\n",
      "0.35 5 tf.Tensor((2.4289911526587105e-08+8.20110841120437e-25j), shape=(), dtype=complex128)\n",
      "0.4 5 tf.Tensor((4.6020037225424915e-08+5.621537195436187e-25j), shape=(), dtype=complex128)\n",
      "0.45 5 tf.Tensor((8.485299407556823e-08+6.47118772201353e-25j), shape=(), dtype=complex128)\n",
      "0.5 5 tf.Tensor((1.6128356983280412e-07+7.698320024652706e-25j), shape=(), dtype=complex128)\n",
      "0.55 5 tf.Tensor((2.1150020712568107e-07+6.121391019420429e-25j), shape=(), dtype=complex128)\n",
      "0.6 5 tf.Tensor((2.3583535568860725e-07+7.551388764598503e-25j), shape=(), dtype=complex128)\n",
      "0.65 5 tf.Tensor((2.3283348848934793e-07+8.235106344067132e-25j), shape=(), dtype=complex128)\n",
      "0.7 5 tf.Tensor((1.9910782511622926e-07+1.2427931637600756e-24j), shape=(), dtype=complex128)\n",
      "0.75 5 tf.Tensor((1.5211791715152856e-07+7.102051620832352e-25j), shape=(), dtype=complex128)\n",
      "0.8 5 tf.Tensor((1.6067237762484865e-07+7.946306338817983e-25j), shape=(), dtype=complex128)\n",
      "0.85 5 tf.Tensor((2.589400185382118e-07+8.160008758042355e-25j), shape=(), dtype=complex128)\n",
      "0.9 5 tf.Tensor((6.339358575857545e-07+6.629462801884811e-25j), shape=(), dtype=complex128)\n",
      "0.95 5 tf.Tensor((6.166336790069948e-07+8.828438213167801e-25j), shape=(), dtype=complex128)\n"
     ]
    }
   ],
   "source": [
    "'''plotting\n",
    "fix ite, run gamma & num-qubit\n",
    "fix gamma, fix num-qubit, tính p' và p'2 dagger, \n",
    "lưu kraus và cost cuối cùng\n",
    "'''\n",
    "import os\n",
    "np.set_printoptions(threshold=np.inf)\n",
    "experiment_folder = ''\n",
    "g_shift = 0.05\n",
    "\n",
    "for num_qubits in range(5, 6):\n",
    "    if (experiment_folder == ''):\n",
    "        break\n",
    "    g = 0\n",
    "    rho = init.create_random_state(num_qubits=num_qubits)\n",
    "    unitary_matrix = init.create_unitary_matrix(num_qubits=num_qubits)\n",
    "    kraus_operators = init.create_kraus_operators_from_unitary(unitary_matrix=unitary_matrix)\n",
    "    \n",
    "    rho_file_path = os.path.join(experiment_folder, str(num_qubits)+\"_qubits_rho.txt\")\n",
    "    with open(rho_file_path, 'w') as file:\n",
    "        file.write(str(rho))\n",
    "    \n",
    "    while g < 1:\n",
    "        folder_path = str(num_qubits)+\"_qubits_\"+\"{:.3f}\".format(g)\n",
    "        folder_path = os.path.join(experiment_folder, folder_path)\n",
    "        if not os.path.exists(folder_path):\n",
    "            os.makedirs(folder_path)\n",
    "\n",
    "        rho2, out_kraus_operators, _cost = quantum_process_tomography_dephasing(num_qubits, g, 700, rho, kraus_operators)\n",
    "        \n",
    "        rho2_file_path = os.path.join(folder_path, 'rho2.txt')\n",
    "        kraus_file_path = os.path.join(folder_path, 'kraus_operators.txt')\n",
    "        cost_file_path = os.path.join(folder_path, 'cost.txt')\n",
    "        fidelity_file_path = os.path.join(folder_path, 'fidelity.txt')\n",
    "        \n",
    "        print(g, num_qubits, _cost)\n",
    "        g = round(g + g_shift, 3)\n",
    "\n",
    "        \n",
    "        rho3 = epsilon_rho.calculate_from_kraus_operators(rho2, out_kraus_operators)\n",
    "        with open(rho2_file_path, 'w') as file:\n",
    "            file.write(str(rho2))\n",
    "        with open(kraus_file_path, 'w') as file:\n",
    "            file.write(str(out_kraus_operators.numpy()))\n",
    "        with open(cost_file_path, 'w') as file:\n",
    "            file.write(str(_cost.numpy().real))\n",
    "        with open(fidelity_file_path, 'w') as file:\n",
    "            file.write(str(1 - metrics.compilation_trace_fidelity(rho, rho3).numpy().real))"
   ]
  }
 ],
 "metadata": {
  "kernelspec": {
   "display_name": "Python 3",
   "language": "python",
   "name": "python3"
  },
  "language_info": {
   "codemirror_mode": {
    "name": "ipython",
    "version": 3
   },
   "file_extension": ".py",
   "mimetype": "text/x-python",
   "name": "python",
   "nbconvert_exporter": "python",
   "pygments_lexer": "ipython3",
   "version": "3.11.4"
  }
 },
 "nbformat": 4,
 "nbformat_minor": 2
}
