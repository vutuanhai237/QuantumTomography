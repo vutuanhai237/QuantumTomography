{
 "cells": [
  {
   "cell_type": "code",
   "execution_count": 1,
   "metadata": {},
   "outputs": [],
   "source": [
    "import numpy as np\n",
    "import matplotlib.pyplot as plt\n"
   ]
  },
  {
   "cell_type": "code",
   "execution_count": null,
   "metadata": {},
   "outputs": [
    {
     "name": "stdout",
     "output_type": "stream",
     "text": [
      "[[0.5+0.j 0. +0.j 0. +0.j 0.5+0.j]\n",
      " [0. +0.j 0. +0.j 0. +0.j 0. +0.j]\n",
      " [0. +0.j 0. +0.j 0. +0.j 0. +0.j]\n",
      " [0.5+0.j 0. +0.j 0. +0.j 0.5+0.j]]\n"
     ]
    }
   ],
   "source": [
    "import numpy as np\n",
    "from qiskit.quantum_info import Statevector\n",
    "\n",
    "def maximally_entangled_state(d):\n",
    "    state_vector = np.zeros(d**2, dtype=complex)\n",
    "    for i in range(d):\n",
    "        state_vector[i * d + i] = 1  # |i>|i> components\n",
    "    state = (state_vector / np.sqrt(d))\n",
    "    return np.expand_dims(state, axis = 1)\n",
    "\n",
    "d = 2\n",
    "state = maximally_entangled_state(d)\n",
    "# This is |\\phi^+><\\phi^+|\n",
    "print(state @ state.T.conj())"
   ]
  },
  {
   "cell_type": "code",
   "execution_count": 31,
   "metadata": {},
   "outputs": [
    {
     "name": "stdout",
     "output_type": "stream",
     "text": [
      "[[1.  +0.j   0.  +0.j   0.  +0.j   1.  +0.j  ]\n",
      " [0.07+0.72j 0.  +0.j   0.  +0.j   0.07+0.72j]\n",
      " [0.07+0.72j 0.  +0.j   0.  +0.j   0.07+0.72j]\n",
      " [0.52+0.j   0.  +0.j   0.  +0.j   0.52+0.j  ]]\n"
     ]
    }
   ],
   "source": [
    "prob_matrix = lambda a, b: np.array([\n",
    "    [np.abs(a)**2, np.conjugate(a)*b], \n",
    "    [b*np.conjugate(a), np.abs(b)**2]\n",
    "])\n",
    "\n",
    "pauliX = np.array([\n",
    "\t[0, 1],\n",
    "\t[1, 0]\n",
    "])\n",
    "\n",
    "pauliI = np.array([\n",
    "\t[1, 0],\n",
    "\t[0, 1]\n",
    "])\n",
    "bit_flip_chainnel = lambda p: pauliX @ p @ pauliX\n",
    "\n",
    "a = 0.2-1j\n",
    "b = np.sqrt(1-a**2)\n",
    "p = prob_matrix(a, b)\n",
    "p1 = bit_flip_chainnel(p)\n",
    "phi_plus = maximally_entangled_state(2)\n",
    "choi_matrix = (np.kron(pauliI, p1)) @ (state @ state.T.conj())\n",
    "print(np.round(choi_matrix, 2))\n"
   ]
  },
  {
   "cell_type": "code",
   "execution_count": 39,
   "metadata": {},
   "outputs": [],
   "source": [
    "J_inverse = np.array([\n",
    "\t[0, 0, 0, 2],\n",
    "\t[0, 0, 2, 0],\n",
    "\t[0, 2, 0, 0],\n",
    "\t[2, 0, 0, 0]\n",
    "])\n",
    "\n",
    "def trace_1(rho):\n",
    "    return np.trace(rho.reshape(2, 2, 2, 2), axis1=0, axis2=2)\n",
    "p2 = (np.kron(pauliI, p1.T) @ J_inverse)\n"
   ]
  }
 ],
 "metadata": {
  "kernelspec": {
   "display_name": "Python 3",
   "language": "python",
   "name": "python3"
  },
  "language_info": {
   "codemirror_mode": {
    "name": "ipython",
    "version": 3
   },
   "file_extension": ".py",
   "mimetype": "text/x-python",
   "name": "python",
   "nbconvert_exporter": "python",
   "pygments_lexer": "ipython3",
   "version": "3.10.11"
  }
 },
 "nbformat": 4,
 "nbformat_minor": 2
}
