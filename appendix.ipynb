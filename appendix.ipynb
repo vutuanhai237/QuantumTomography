{
 "cells": [
  {
   "cell_type": "code",
   "execution_count": 38,
   "metadata": {},
   "outputs": [],
   "source": [
    "import numpy as np\n",
    "import matplotlib.pyplot as plt\n"
   ]
  },
  {
   "cell_type": "code",
   "execution_count": 39,
   "metadata": {},
   "outputs": [
    {
     "name": "stdout",
     "output_type": "stream",
     "text": [
      "[[0.5+0.j 0. +0.j 0. +0.j 0.5+0.j]\n",
      " [0. +0.j 0. +0.j 0. +0.j 0. +0.j]\n",
      " [0. +0.j 0. +0.j 0. +0.j 0. +0.j]\n",
      " [0.5+0.j 0. +0.j 0. +0.j 0.5+0.j]]\n"
     ]
    }
   ],
   "source": [
    "import numpy as np\n",
    "from qiskit.quantum_info import Statevector\n",
    "\n",
    "def maximally_entangled_state(d):\n",
    "    state_vector = np.zeros(d**2, dtype=complex)\n",
    "    for i in range(d):\n",
    "        state_vector[i * d + i] = 1  # |i>|i> components\n",
    "    state = (state_vector / np.sqrt(d))\n",
    "    return np.expand_dims(state, axis = 1)\n",
    "\n",
    "d = 2\n",
    "state = maximally_entangled_state(d)\n",
    "# This is |\\phi^+><\\phi^+|\n",
    "print(state @ state.T.conj())"
   ]
  },
  {
   "cell_type": "code",
   "execution_count": 40,
   "metadata": {},
   "outputs": [],
   "source": [
    "a = 0.2-0.3j\n",
    "if np.abs(a) > 1:\n",
    "\traise ValueError(\"a must be less than 1 in magnitude\")\n",
    "b = np.sqrt(1-a**2)\n",
    "p = prob_matrix(a, b)"
   ]
  },
  {
   "cell_type": "code",
   "execution_count": 75,
   "metadata": {},
   "outputs": [
    {
     "name": "stdout",
     "output_type": "stream",
     "text": [
      "Initial:  [[0.5 0.5]\n",
      " [0.5 0.5]]\n",
      "Channel:  [[0.5 0.5]\n",
      " [0.5 0.5]]\n",
      "Choi matrix: [[0.25+0.j 0.  +0.j 0.  +0.j 0.25+0.j]\n",
      " [0.25+0.j 0.  +0.j 0.  +0.j 0.25+0.j]\n",
      " [0.25+0.j 0.  +0.j 0.  +0.j 0.25+0.j]\n",
      " [0.25+0.j 0.  +0.j 0.  +0.j 0.25+0.j]]\n"
     ]
    }
   ],
   "source": [
    "prob_matrix = lambda a, b: np.array([\n",
    "    [(a)**2, np.conjugate(a)*b], \n",
    "    [b*np.conjugate(a), (b)**2]\n",
    "])\n",
    "\n",
    "pauliX = np.array([\n",
    "\t[0, 1],\n",
    "\t[1, 0]\n",
    "])\n",
    "\n",
    "pauliI = np.array([\n",
    "\t[1, 0],\n",
    "\t[0, 1]\n",
    "])\n",
    "bit_flip_chainnel = lambda p: pauliX @ p @ pauliX\n",
    "\n",
    "a = 0.2-0.3j\n",
    "if np.abs(a) > 1:\n",
    "\traise ValueError(\"a must be less than 1 in magnitude\")\n",
    "b = np.sqrt(1-a**2)\n",
    "# p = prob_matrix(a, b)\n",
    "p = np.array([\n",
    "\t[0.5, 0.5],\n",
    "\t[0.5, 0.5]\n",
    "])\n",
    "print(\"Initial: \", p)\n",
    "p1 = bit_flip_chainnel(p)\n",
    "print(\"Channel: \", p1)\n",
    "phi_plus = maximally_entangled_state(2)\n",
    "choi_matrix = (np.kron(pauliI, p1)) @ (state @ state.T.conj())\n",
    "print(\"Choi matrix:\", np.round(choi_matrix, 2))\n"
   ]
  },
  {
   "cell_type": "code",
   "execution_count": 78,
   "metadata": {},
   "outputs": [
    {
     "name": "stdout",
     "output_type": "stream",
     "text": [
      "Recover: [[0.25+0.j 0.25+0.j]\n",
      " [0.25+0.j 0.25+0.j]]\n"
     ]
    }
   ],
   "source": [
    "J = 1/2*np.array([\n",
    "\t[0, 0, 0, 0],\n",
    "\t[0, 1, 1, 0],\n",
    "\t[0, 1, 1, 0],\n",
    "\t[0, 0, 0, 0]\n",
    "])\n",
    "\n",
    "from pennylane import math\n",
    "J_inverse = np.linalg.pinv(J)\n",
    "p2 = math.partial_trace(np.kron(pauliI, p1.T) @ J_inverse, [0])\n",
    "\n",
    "print(\"Recover:\", np.round(p2, 2))"
   ]
  },
  {
   "cell_type": "code",
   "execution_count": 79,
   "metadata": {},
   "outputs": [
    {
     "name": "stdout",
     "output_type": "stream",
     "text": [
      "Original: [[0.5 0.5]\n",
      " [0.5 0.5]]\n"
     ]
    }
   ],
   "source": [
    "print(\"Original:\", np.round(p, 2))"
   ]
  },
  {
   "cell_type": "code",
   "execution_count": null,
   "metadata": {},
   "outputs": [
    {
     "data": {
      "text/plain": [
       "array([[12.+0.j, 14.+0.j],\n",
       "       [20.+0.j, 22.+0.j]])"
      ]
     },
     "execution_count": 80,
     "metadata": {},
     "output_type": "execute_result"
    }
   ],
   "source": [
    "matrix = np.array(\n",
    "\t[[1,2,3,4],\n",
    " [5,6,7,8],\n",
    " [9,10,11,12],\n",
    " [13,14,15,16]]\n",
    ")\n",
    "\n",
    "math.partial_trace(matrix, indices = [0])"
   ]
  },
  {
   "cell_type": "code",
   "execution_count": null,
   "metadata": {},
   "outputs": [],
   "source": []
  },
  {
   "cell_type": "code",
   "execution_count": null,
   "metadata": {},
   "outputs": [],
   "source": []
  }
 ],
 "metadata": {
  "kernelspec": {
   "display_name": "Python 3",
   "language": "python",
   "name": "python3"
  },
  "language_info": {
   "codemirror_mode": {
    "name": "ipython",
    "version": 3
   },
   "file_extension": ".py",
   "mimetype": "text/x-python",
   "name": "python",
   "nbconvert_exporter": "python",
   "pygments_lexer": "ipython3",
   "version": "3.10.11"
  }
 },
 "nbformat": 4,
 "nbformat_minor": 2
}
